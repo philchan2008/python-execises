{
 "cells": [
  {
   "cell_type": "code",
   "execution_count": 1,
   "id": "49061644-cc36-4e03-b3bd-dcbcfd512b88",
   "metadata": {},
   "outputs": [],
   "source": [
    "def fibonacci_sequence(start_sequence, length):\n",
    "    a, b = start_sequence\n",
    "    if length > 1:\n",
    "        sequence = [a, b]\n",
    "    elif length > 0:\n",
    "        sequence = [a]\n",
    "    else:\n",
    "        sequence = []\n",
    "        return sequence\n",
    "    for _ in range(length - 2):\n",
    "        next_value = a + b\n",
    "        if len(sequence) < length:\n",
    "            sequence.append(next_value)\n",
    "        a, b = b, next_value\n",
    "    return sequence"
   ]
  },
  {
   "cell_type": "code",
   "execution_count": 2,
   "id": "5563b84c-86cc-4fb5-bfdc-18caa248f15e",
   "metadata": {},
   "outputs": [],
   "source": [
    "assert(fibonacci_sequence([0, 1], 20) == [0, 1, 1, 2, 3, 5, 8, 13, 21, 34, 55, 89, 144, 233, 377, 610, 987, 1597, 2584, 4181])"
   ]
  },
  {
   "cell_type": "code",
   "execution_count": 3,
   "id": "37c23b0c-f565-4dc0-984a-69b8b667262e",
   "metadata": {},
   "outputs": [],
   "source": [
    "assert(fibonacci_sequence([21, 32], 1) == [21])"
   ]
  },
  {
   "cell_type": "code",
   "execution_count": 4,
   "id": "9c1d5d42-32b7-4828-b3a9-f5e2995e142d",
   "metadata": {},
   "outputs": [],
   "source": [
    "assert(fibonacci_sequence([0, 1], 0) == [])"
   ]
  },
  {
   "cell_type": "code",
   "execution_count": 5,
   "id": "a46fddd9-09a8-416c-91b9-9129e2e4dfa4",
   "metadata": {},
   "outputs": [],
   "source": [
    "assert(fibonacci_sequence([10, 20], 2) == [10, 20])"
   ]
  },
  {
   "cell_type": "code",
   "execution_count": 6,
   "id": "d3604787-a077-4ffa-967f-832c4c6bdf08",
   "metadata": {},
   "outputs": [],
   "source": [
    "assert(fibonacci_sequence([123456789, 987654321], 5) == [123456789, 987654321, 1111111110, 2098765431, 3209876541])"
   ]
  },
  {
   "cell_type": "code",
   "execution_count": null,
   "id": "b0764600-203c-4cf2-91a2-eb04bbe0783b",
   "metadata": {},
   "outputs": [],
   "source": []
  }
 ],
 "metadata": {
  "kernelspec": {
   "display_name": "Python 3 (ipykernel)",
   "language": "python",
   "name": "python3"
  },
  "language_info": {
   "codemirror_mode": {
    "name": "ipython",
    "version": 3
   },
   "file_extension": ".py",
   "mimetype": "text/x-python",
   "name": "python",
   "nbconvert_exporter": "python",
   "pygments_lexer": "ipython3",
   "version": "3.13.5"
  }
 },
 "nbformat": 4,
 "nbformat_minor": 5
}
