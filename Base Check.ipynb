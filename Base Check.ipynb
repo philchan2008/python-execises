{
 "cells": [
  {
   "cell_type": "code",
   "execution_count": 1,
   "id": "c1c2f20c-2f24-48a2-9f3e-bf785e67e523",
   "metadata": {},
   "outputs": [],
   "source": [
    "import re\n",
    "\n",
    "def is_valid_number(n, base):\n",
    "    n = n.upper()\n",
    "    match base:\n",
    "        case 2:\n",
    "            if sum(1 for x in n if int(x) > 1) == 0:\n",
    "                return True\n",
    "        case 8:\n",
    "            if sum(1 for x in n if int(x) > 8) == 0:\n",
    "                return True\n",
    "        case 10:\n",
    "            if n.isdigit():\n",
    "                return True\n",
    "        case v if v > 10:\n",
    "            startChar = chr(54 + min(base,36))  # 10 → 'A', 11 → 'B', ..., 36 → 'Z'\n",
    "            if not 'A' <= startChar <= 'Z':\n",
    "                raise ValueError(\"startChar must be between 'A' and 'Z'\")\n",
    "            regex = f\"[0-9A-{startChar}]+\"\n",
    "            if re.fullmatch(regex, n):\n",
    "                return True\n",
    "    return False"
   ]
  },
  {
   "cell_type": "code",
   "execution_count": 2,
   "id": "2f5af7b6-7771-42ca-a788-d53b6535b855",
   "metadata": {},
   "outputs": [],
   "source": [
    "assert(is_valid_number(\"10101\", 2) == True)"
   ]
  },
  {
   "cell_type": "code",
   "execution_count": 3,
   "id": "a5bb8225-1aac-4ccc-aded-12d1853be11a",
   "metadata": {},
   "outputs": [],
   "source": [
    "assert(is_valid_number(\"10201\", 2) == False)"
   ]
  },
  {
   "cell_type": "code",
   "execution_count": 4,
   "id": "48226b47-6a8e-4a2b-b6c4-194e9a4cc24d",
   "metadata": {},
   "outputs": [],
   "source": [
    "assert(is_valid_number(\"76543210\", 8) == True)"
   ]
  },
  {
   "cell_type": "code",
   "execution_count": 5,
   "id": "3b3bad1c-7433-4a82-ae74-91ca01a08314",
   "metadata": {},
   "outputs": [],
   "source": [
    "assert(is_valid_number(\"Z\", 36) == True)"
   ]
  },
  {
   "cell_type": "code",
   "execution_count": 6,
   "id": "619ef3db-c45b-4ed7-b914-7b0307bab2b8",
   "metadata": {},
   "outputs": [],
   "source": [
    "assert(is_valid_number(\"5G3F8F\", 16) == False)"
   ]
  },
  {
   "cell_type": "code",
   "execution_count": 7,
   "id": "f1f33699-99ca-4f85-9ac0-89e6dd1c991b",
   "metadata": {},
   "outputs": [],
   "source": [
    "assert(is_valid_number(\"abc\", 16) == True)"
   ]
  },
  {
   "cell_type": "code",
   "execution_count": 8,
   "id": "c0f7f43c-b469-412b-9482-c9318a844740",
   "metadata": {},
   "outputs": [],
   "source": [
    "assert(is_valid_number(\"AbC\", 16) == True)"
   ]
  },
  {
   "cell_type": "code",
   "execution_count": 9,
   "id": "6455b678-7ba0-4398-9a42-3fc23dfccc78",
   "metadata": {},
   "outputs": [],
   "source": [
    "assert(is_valid_number(\"z\", 36) == True)"
   ]
  }
 ],
 "metadata": {
  "kernelspec": {
   "display_name": "Python 3 (ipykernel)",
   "language": "python",
   "name": "python3"
  },
  "language_info": {
   "codemirror_mode": {
    "name": "ipython",
    "version": 3
   },
   "file_extension": ".py",
   "mimetype": "text/x-python",
   "name": "python",
   "nbconvert_exporter": "python",
   "pygments_lexer": "ipython3",
   "version": "3.13.5"
  }
 },
 "nbformat": 4,
 "nbformat_minor": 5
}
