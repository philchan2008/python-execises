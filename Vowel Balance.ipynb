{
 "cells": [
  {
   "cell_type": "code",
   "execution_count": 1,
   "id": "f6e45996-22c0-4f2f-a26c-25c83f8ba9cd",
   "metadata": {},
   "outputs": [],
   "source": [
    "def is_balanced(s):\n",
    "    vowels = set(\"aeiouAEIOU\")\n",
    "    mid = len(s) // 2\n",
    "    if len(s) % 2 == 0:\n",
    "        first_part = s[:mid]\n",
    "        second_part = s[mid:]\n",
    "    else:\n",
    "        first_part = s[:mid]\n",
    "        second_part = s[mid+1:]\n",
    "\n",
    "    # count vowels in each parts\n",
    "    count_first = sum([1 for char in first_part if char in vowels])\n",
    "    count_second = sum([1 for char in second_part if char in vowels])\n",
    "\n",
    "    #print(count_first, count_second)\n",
    "    return (count_first == count_second)\n"
   ]
  },
  {
   "cell_type": "code",
   "execution_count": 2,
   "id": "721cdf74-3682-49b0-bf7f-d457bdc391eb",
   "metadata": {},
   "outputs": [],
   "source": [
    "assert(is_balanced(\"racecar\") == True) #True"
   ]
  },
  {
   "cell_type": "code",
   "execution_count": 3,
   "id": "f69c55d0-c6af-460d-a31b-f4e8ae46c451",
   "metadata": {},
   "outputs": [],
   "source": [
    "assert(is_balanced(\"Lorem Ipsum\") == True) #True"
   ]
  },
  {
   "cell_type": "code",
   "execution_count": 4,
   "id": "cec79056-c36b-4203-8afd-63602b6aa7c1",
   "metadata": {},
   "outputs": [],
   "source": [
    "assert(is_balanced(\"Kitty Ipsum\") == False) #False"
   ]
  },
  {
   "cell_type": "code",
   "execution_count": 5,
   "id": "b9396f6c-b669-4208-ad24-68e3e3ced044",
   "metadata": {},
   "outputs": [],
   "source": [
    "assert(is_balanced(\" \") == True) #True"
   ]
  },
  {
   "cell_type": "code",
   "execution_count": 6,
   "id": "e98aeb3e-68b3-43a3-9142-4a34f134a600",
   "metadata": {},
   "outputs": [],
   "source": [
    "assert(is_balanced(\"abcdefghijklmnopqrstuvwxyz\") == False) #False"
   ]
  },
  {
   "cell_type": "code",
   "execution_count": 7,
   "id": "0dafaca9-f3a1-4c4f-bde9-6806e644daca",
   "metadata": {},
   "outputs": [],
   "source": [
    "assert(is_balanced(\"123A#b!E&#x26;*456-o.U\") == True) #True"
   ]
  },
  {
   "cell_type": "code",
   "execution_count": null,
   "id": "8c6046fd-ec1c-4ef1-baf0-06b431826c51",
   "metadata": {},
   "outputs": [],
   "source": []
  }
 ],
 "metadata": {
  "kernelspec": {
   "display_name": "Python 3 (ipykernel)",
   "language": "python",
   "name": "python3"
  },
  "language_info": {
   "codemirror_mode": {
    "name": "ipython",
    "version": 3
   },
   "file_extension": ".py",
   "mimetype": "text/x-python",
   "name": "python",
   "nbconvert_exporter": "python",
   "pygments_lexer": "ipython3",
   "version": "3.12.11"
  }
 },
 "nbformat": 4,
 "nbformat_minor": 5
}
