{
 "cells": [
  {
   "cell_type": "code",
   "execution_count": 1,
   "id": "afb32728-9804-4c0e-9c38-2cd672a05407",
   "metadata": {},
   "outputs": [],
   "source": [
    "def sum_of_squares(n):\n",
    "    if (n > 1):\n",
    "        return n*n + sum_of_squares(n-1)\n",
    "    return n"
   ]
  },
  {
   "cell_type": "code",
   "execution_count": 2,
   "id": "2225929d-4198-485f-9dff-c7da39464361",
   "metadata": {},
   "outputs": [],
   "source": [
    "assert(sum_of_squares(5) == 55)"
   ]
  },
  {
   "cell_type": "code",
   "execution_count": 3,
   "id": "5d871959-c134-4f7d-9b16-7f4f9a4cc09b",
   "metadata": {},
   "outputs": [],
   "source": [
    "assert(sum_of_squares(10) == 385)"
   ]
  },
  {
   "cell_type": "code",
   "execution_count": 4,
   "id": "abe0179b-e980-41d0-8ceb-dedd090b3047",
   "metadata": {},
   "outputs": [],
   "source": [
    "assert(sum_of_squares(25) == 5525)"
   ]
  },
  {
   "cell_type": "code",
   "execution_count": 5,
   "id": "b9ef9e9f-b836-4719-98e0-d5fde0b4c9d3",
   "metadata": {},
   "outputs": [],
   "source": [
    "assert(sum_of_squares(500) == 41791750)"
   ]
  },
  {
   "cell_type": "code",
   "execution_count": 6,
   "id": "465134b4-c95f-4024-a0b4-e93bc96d7a4d",
   "metadata": {},
   "outputs": [],
   "source": [
    "assert(sum_of_squares(1000) == 333833500)"
   ]
  }
 ],
 "metadata": {
  "kernelspec": {
   "display_name": "Python 3 (ipykernel)",
   "language": "python",
   "name": "python3"
  },
  "language_info": {
   "codemirror_mode": {
    "name": "ipython",
    "version": 3
   },
   "file_extension": ".py",
   "mimetype": "text/x-python",
   "name": "python",
   "nbconvert_exporter": "python",
   "pygments_lexer": "ipython3",
   "version": "3.12.11"
  }
 },
 "nbformat": 4,
 "nbformat_minor": 5
}
