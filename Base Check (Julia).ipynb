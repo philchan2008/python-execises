{
 "cells": [
  {
   "cell_type": "code",
   "execution_count": 3,
   "id": "de008ae4-de80-497d-a973-ac4919617f71",
   "metadata": {},
   "outputs": [
    {
     "data": {
      "text/plain": [
       "is_valid_number (generic function with 1 method)"
      ]
     },
     "execution_count": 3,
     "metadata": {},
     "output_type": "execute_result"
    }
   ],
   "source": [
    "function is_valid_number(n::String, base::Int)\n",
    "    if base < 2 || base > 36\n",
    "        return false\n",
    "    end\n",
    "    valid_chars = join('0':'9') * join('A':'Z')\n",
    "    allowed = valid_chars[1:base]\n",
    "    return all(c -> uppercase(c) in allowed, n)\n",
    "end"
   ]
  },
  {
   "cell_type": "code",
   "execution_count": 4,
   "id": "ce4c7108-9833-4ad7-869e-ccc0dbeb0a32",
   "metadata": {},
   "outputs": [
    {
     "name": "stdout",
     "output_type": "stream",
     "text": [
      "true\n",
      "true\n",
      "false\n",
      "true\n"
     ]
    }
   ],
   "source": [
    "# Test cases\n",
    "println(is_valid_number(\"10101\", 2))    # true\n",
    "println(is_valid_number(\"1A3F\", 16))    # true\n",
    "println(is_valid_number(\"1G3F\", 16))    # false\n",
    "println(is_valid_number(\"Z9A\", 36))     # true"
   ]
  },
  {
   "cell_type": "code",
   "execution_count": null,
   "id": "63261cb7-0371-4811-9aba-cf49c2465d7c",
   "metadata": {},
   "outputs": [],
   "source": []
  }
 ],
 "metadata": {
  "kernelspec": {
   "display_name": "Julia 1.11.6",
   "language": "julia",
   "name": "julia-1.11"
  },
  "language_info": {
   "file_extension": ".jl",
   "mimetype": "application/julia",
   "name": "julia",
   "version": "1.11.6"
  }
 },
 "nbformat": 4,
 "nbformat_minor": 5
}
